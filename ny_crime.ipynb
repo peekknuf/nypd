{
 "cells": [
  {
   "cell_type": "code",
   "execution_count": 100,
   "metadata": {},
   "outputs": [],
   "source": [
    "import pandas as pd\n",
    "import numpy as np\n",
    "import seaborn as sns\n",
    "import matplotlib.pyplot as plt"
   ]
  },
  {
   "cell_type": "code",
   "execution_count": 102,
   "metadata": {},
   "outputs": [
    {
     "name": "stderr",
     "output_type": "stream",
     "text": [
      "C:\\Users\\peekk\\AppData\\Local\\Temp\\ipykernel_16592\\2532116499.py:1: DtypeWarning: Columns (0,18,20) have mixed types. Specify dtype option on import or set low_memory=False.\n",
      "  nypd = pd.read_csv('C:/NYPD_Complaint_Data_Historic.csv')\n"
     ]
    }
   ],
   "source": [
    "nypd = pd.read_csv('C:/NYPD_Complaint_Data_Historic.csv')"
   ]
  },
  {
   "cell_type": "code",
   "execution_count": null,
   "metadata": {},
   "outputs": [],
   "source": [
    "nypd.rename(columns = {'CMPLNT_NUM':'id', 'CMPLNT_FR_DT':'crime_date', 'CMPLNT_FR_TM': 'crime_datetime'\n",
    "                       ,'ADDR_PCT_CD': 'precinct', 'RPT_DT': 'date_reported', 'KY_CD': 'offense_code'\n",
    "                        ,'CRM_ATPT_CPTD_CD': 'succeeded_or_attempted', 'LAW_CAT_CD': 'level_of_offense'\n",
    "                        , 'BORO_NM': 'borough_name' }, inplace = True)"
   ]
  },
  {
   "cell_type": "code",
   "execution_count": null,
   "metadata": {},
   "outputs": [],
   "source": [
    "nypd_right = nypd[['id','crime_date','date_reported', 'OFNS_DESC',\n",
    "              'succeeded_or_attempted', 'level_of_offense', 'borough_name', 'SUSP_AGE_GROUP', 'SUSP_RACE', 'SUSP_SEX',\n",
    "              'VIC_AGE_GROUP', 'VIC_RACE', 'VIC_SEX']]"
   ]
  },
  {
   "cell_type": "code",
   "execution_count": null,
   "metadata": {},
   "outputs": [],
   "source": [
    "nypd_right = nypd_right.fillna({'SUSP_AGE_GROUP' : 'UNKNOWN',\n",
    "                      'SUSP_RACE': 'UNKNOWN',\n",
    "                      'SUSP_SEX': 'UNKNOWN',\n",
    "                      'VIC_AGE_GROUP': 'UNKNOWN',\n",
    "                      })"
   ]
  },
  {
   "cell_type": "code",
   "execution_count": null,
   "metadata": {},
   "outputs": [],
   "source": [
    "nypd_right['crime_date'] = pd.to_datetime(nypd_right['crime_date'], errors='coerce')\n",
    "nypd_right['date_reported'] = pd.to_datetime(nypd_right['date_reported'], errors='coerce')"
   ]
  },
  {
   "cell_type": "code",
   "execution_count": null,
   "metadata": {},
   "outputs": [
    {
     "data": {
      "text/html": [
       "<div>\n",
       "<style scoped>\n",
       "    .dataframe tbody tr th:only-of-type {\n",
       "        vertical-align: middle;\n",
       "    }\n",
       "\n",
       "    .dataframe tbody tr th {\n",
       "        vertical-align: top;\n",
       "    }\n",
       "\n",
       "    .dataframe thead th {\n",
       "        text-align: right;\n",
       "    }\n",
       "</style>\n",
       "<table border=\"1\" class=\"dataframe\">\n",
       "  <thead>\n",
       "    <tr style=\"text-align: right;\">\n",
       "      <th></th>\n",
       "      <th>id</th>\n",
       "      <th>crime_date</th>\n",
       "      <th>date_reported</th>\n",
       "      <th>OFNS_DESC</th>\n",
       "      <th>succeeded_or_attempted</th>\n",
       "      <th>level_of_offense</th>\n",
       "      <th>borough_name</th>\n",
       "      <th>SUSP_AGE_GROUP</th>\n",
       "      <th>SUSP_RACE</th>\n",
       "      <th>SUSP_SEX</th>\n",
       "      <th>VIC_AGE_GROUP</th>\n",
       "      <th>VIC_RACE</th>\n",
       "      <th>VIC_SEX</th>\n",
       "    </tr>\n",
       "  </thead>\n",
       "  <tbody>\n",
       "    <tr>\n",
       "      <th>0</th>\n",
       "      <td>469069650</td>\n",
       "      <td>09/04/2019</td>\n",
       "      <td>09/04/2019</td>\n",
       "      <td>PETIT LARCENY</td>\n",
       "      <td>COMPLETED</td>\n",
       "      <td>MISDEMEANOR</td>\n",
       "      <td>MANHATTAN</td>\n",
       "      <td>NaN</td>\n",
       "      <td>NaN</td>\n",
       "      <td>NaN</td>\n",
       "      <td>25-44</td>\n",
       "      <td>BLACK</td>\n",
       "      <td>F</td>\n",
       "    </tr>\n",
       "    <tr>\n",
       "      <th>1</th>\n",
       "      <td>629841380</td>\n",
       "      <td>08/31/2019</td>\n",
       "      <td>08/31/2019</td>\n",
       "      <td>PETIT LARCENY</td>\n",
       "      <td>COMPLETED</td>\n",
       "      <td>MISDEMEANOR</td>\n",
       "      <td>BRONX</td>\n",
       "      <td>NaN</td>\n",
       "      <td>NaN</td>\n",
       "      <td>NaN</td>\n",
       "      <td>45-64</td>\n",
       "      <td>UNKNOWN</td>\n",
       "      <td>M</td>\n",
       "    </tr>\n",
       "    <tr>\n",
       "      <th>2</th>\n",
       "      <td>918597562</td>\n",
       "      <td>08/31/2007</td>\n",
       "      <td>09/04/2007</td>\n",
       "      <td>BURGLARY</td>\n",
       "      <td>COMPLETED</td>\n",
       "      <td>FELONY</td>\n",
       "      <td>MANHATTAN</td>\n",
       "      <td>NaN</td>\n",
       "      <td>NaN</td>\n",
       "      <td>NaN</td>\n",
       "      <td>NaN</td>\n",
       "      <td>UNKNOWN</td>\n",
       "      <td>D</td>\n",
       "    </tr>\n",
       "    <tr>\n",
       "      <th>3</th>\n",
       "      <td>224389328</td>\n",
       "      <td>09/07/2019</td>\n",
       "      <td>09/07/2019</td>\n",
       "      <td>PETIT LARCENY</td>\n",
       "      <td>COMPLETED</td>\n",
       "      <td>MISDEMEANOR</td>\n",
       "      <td>MANHATTAN</td>\n",
       "      <td>UNKNOWN</td>\n",
       "      <td>BLACK</td>\n",
       "      <td>M</td>\n",
       "      <td>UNKNOWN</td>\n",
       "      <td>UNKNOWN</td>\n",
       "      <td>D</td>\n",
       "    </tr>\n",
       "    <tr>\n",
       "      <th>4</th>\n",
       "      <td>303540290</td>\n",
       "      <td>02/05/2015</td>\n",
       "      <td>02/05/2015</td>\n",
       "      <td>BURGLARY</td>\n",
       "      <td>COMPLETED</td>\n",
       "      <td>FELONY</td>\n",
       "      <td>BROOKLYN</td>\n",
       "      <td>NaN</td>\n",
       "      <td>UNKNOWN</td>\n",
       "      <td>U</td>\n",
       "      <td>NaN</td>\n",
       "      <td>UNKNOWN</td>\n",
       "      <td>D</td>\n",
       "    </tr>\n",
       "  </tbody>\n",
       "</table>\n",
       "</div>"
      ],
      "text/plain": [
       "          id  crime_date date_reported      OFNS_DESC succeeded_or_attempted  \\\n",
       "0  469069650  09/04/2019    09/04/2019  PETIT LARCENY              COMPLETED   \n",
       "1  629841380  08/31/2019    08/31/2019  PETIT LARCENY              COMPLETED   \n",
       "2  918597562  08/31/2007    09/04/2007       BURGLARY              COMPLETED   \n",
       "3  224389328  09/07/2019    09/07/2019  PETIT LARCENY              COMPLETED   \n",
       "4  303540290  02/05/2015    02/05/2015       BURGLARY              COMPLETED   \n",
       "\n",
       "  level_of_offense borough_name SUSP_AGE_GROUP SUSP_RACE SUSP_SEX  \\\n",
       "0      MISDEMEANOR    MANHATTAN            NaN       NaN      NaN   \n",
       "1      MISDEMEANOR        BRONX            NaN       NaN      NaN   \n",
       "2           FELONY    MANHATTAN            NaN       NaN      NaN   \n",
       "3      MISDEMEANOR    MANHATTAN        UNKNOWN     BLACK        M   \n",
       "4           FELONY     BROOKLYN            NaN   UNKNOWN        U   \n",
       "\n",
       "  VIC_AGE_GROUP VIC_RACE VIC_SEX  \n",
       "0         25-44    BLACK       F  \n",
       "1         45-64  UNKNOWN       M  \n",
       "2           NaN  UNKNOWN       D  \n",
       "3       UNKNOWN  UNKNOWN       D  \n",
       "4           NaN  UNKNOWN       D  "
      ]
     },
     "execution_count": 50,
     "metadata": {},
     "output_type": "execute_result"
    }
   ],
   "source": [
    "nypd_right.head()"
   ]
  },
  {
   "cell_type": "code",
   "execution_count": null,
   "metadata": {},
   "outputs": [],
   "source": [
    "nypd_copy = nypd_right.copy()"
   ]
  },
  {
   "cell_type": "code",
   "execution_count": null,
   "metadata": {},
   "outputs": [
    {
     "data": {
      "text/html": [
       "<div>\n",
       "<style scoped>\n",
       "    .dataframe tbody tr th:only-of-type {\n",
       "        vertical-align: middle;\n",
       "    }\n",
       "\n",
       "    .dataframe tbody tr th {\n",
       "        vertical-align: top;\n",
       "    }\n",
       "\n",
       "    .dataframe thead th {\n",
       "        text-align: right;\n",
       "    }\n",
       "</style>\n",
       "<table border=\"1\" class=\"dataframe\">\n",
       "  <thead>\n",
       "    <tr style=\"text-align: right;\">\n",
       "      <th></th>\n",
       "      <th>id</th>\n",
       "      <th>crime_date</th>\n",
       "      <th>crime_datetime</th>\n",
       "      <th>date_reported</th>\n",
       "      <th>offense_code</th>\n",
       "      <th>OFNS_DESC</th>\n",
       "      <th>succeeded_or_attempted</th>\n",
       "      <th>level_of_offense</th>\n",
       "      <th>borough_name</th>\n",
       "      <th>SUSP_AGE_GROUP</th>\n",
       "      <th>SUSP_RACE</th>\n",
       "      <th>SUSP_SEX</th>\n",
       "      <th>VIC_AGE_GROUP</th>\n",
       "      <th>VIC_RACE</th>\n",
       "      <th>VIC_SEX</th>\n",
       "    </tr>\n",
       "  </thead>\n",
       "  <tbody>\n",
       "    <tr>\n",
       "      <th>0</th>\n",
       "      <td>469069650</td>\n",
       "      <td>2019-09-04</td>\n",
       "      <td>2019-09-04 09:00:00</td>\n",
       "      <td>2019-09-04</td>\n",
       "      <td>341</td>\n",
       "      <td>PETIT LARCENY</td>\n",
       "      <td>COMPLETED</td>\n",
       "      <td>MISDEMEANOR</td>\n",
       "      <td>MANHATTAN</td>\n",
       "      <td>UNKNOWN</td>\n",
       "      <td>UNKNOWN</td>\n",
       "      <td>UNKNOWN</td>\n",
       "      <td>25-44</td>\n",
       "      <td>BLACK</td>\n",
       "      <td>F</td>\n",
       "    </tr>\n",
       "    <tr>\n",
       "      <th>1</th>\n",
       "      <td>629841380</td>\n",
       "      <td>2019-08-31</td>\n",
       "      <td>2019-08-31 18:58:00</td>\n",
       "      <td>2019-08-31</td>\n",
       "      <td>341</td>\n",
       "      <td>PETIT LARCENY</td>\n",
       "      <td>COMPLETED</td>\n",
       "      <td>MISDEMEANOR</td>\n",
       "      <td>BRONX</td>\n",
       "      <td>UNKNOWN</td>\n",
       "      <td>UNKNOWN</td>\n",
       "      <td>UNKNOWN</td>\n",
       "      <td>45-64</td>\n",
       "      <td>UNKNOWN</td>\n",
       "      <td>M</td>\n",
       "    </tr>\n",
       "    <tr>\n",
       "      <th>2</th>\n",
       "      <td>918597562</td>\n",
       "      <td>2007-08-31</td>\n",
       "      <td>2007-08-31 17:00:00</td>\n",
       "      <td>2007-09-04</td>\n",
       "      <td>107</td>\n",
       "      <td>BURGLARY</td>\n",
       "      <td>COMPLETED</td>\n",
       "      <td>FELONY</td>\n",
       "      <td>MANHATTAN</td>\n",
       "      <td>UNKNOWN</td>\n",
       "      <td>UNKNOWN</td>\n",
       "      <td>UNKNOWN</td>\n",
       "      <td>UNKNOWN</td>\n",
       "      <td>UNKNOWN</td>\n",
       "      <td>D</td>\n",
       "    </tr>\n",
       "    <tr>\n",
       "      <th>3</th>\n",
       "      <td>224389328</td>\n",
       "      <td>2019-09-07</td>\n",
       "      <td>2019-09-07 22:00:00</td>\n",
       "      <td>2019-09-07</td>\n",
       "      <td>341</td>\n",
       "      <td>PETIT LARCENY</td>\n",
       "      <td>COMPLETED</td>\n",
       "      <td>MISDEMEANOR</td>\n",
       "      <td>MANHATTAN</td>\n",
       "      <td>UNKNOWN</td>\n",
       "      <td>BLACK</td>\n",
       "      <td>M</td>\n",
       "      <td>UNKNOWN</td>\n",
       "      <td>UNKNOWN</td>\n",
       "      <td>D</td>\n",
       "    </tr>\n",
       "    <tr>\n",
       "      <th>4</th>\n",
       "      <td>303540290</td>\n",
       "      <td>2015-02-05</td>\n",
       "      <td>2015-02-05 13:55:00</td>\n",
       "      <td>2015-02-05</td>\n",
       "      <td>107</td>\n",
       "      <td>BURGLARY</td>\n",
       "      <td>COMPLETED</td>\n",
       "      <td>FELONY</td>\n",
       "      <td>BROOKLYN</td>\n",
       "      <td>UNKNOWN</td>\n",
       "      <td>UNKNOWN</td>\n",
       "      <td>U</td>\n",
       "      <td>UNKNOWN</td>\n",
       "      <td>UNKNOWN</td>\n",
       "      <td>D</td>\n",
       "    </tr>\n",
       "  </tbody>\n",
       "</table>\n",
       "</div>"
      ],
      "text/plain": [
       "          id  crime_date      crime_datetime date_reported  offense_code  \\\n",
       "0  469069650  2019-09-04 2019-09-04 09:00:00    2019-09-04           341   \n",
       "1  629841380  2019-08-31 2019-08-31 18:58:00    2019-08-31           341   \n",
       "2  918597562  2007-08-31 2007-08-31 17:00:00    2007-09-04           107   \n",
       "3  224389328  2019-09-07 2019-09-07 22:00:00    2019-09-07           341   \n",
       "4  303540290  2015-02-05 2015-02-05 13:55:00    2015-02-05           107   \n",
       "\n",
       "       OFNS_DESC succeeded_or_attempted level_of_offense borough_name  \\\n",
       "0  PETIT LARCENY              COMPLETED      MISDEMEANOR    MANHATTAN   \n",
       "1  PETIT LARCENY              COMPLETED      MISDEMEANOR        BRONX   \n",
       "2       BURGLARY              COMPLETED           FELONY    MANHATTAN   \n",
       "3  PETIT LARCENY              COMPLETED      MISDEMEANOR    MANHATTAN   \n",
       "4       BURGLARY              COMPLETED           FELONY     BROOKLYN   \n",
       "\n",
       "  SUSP_AGE_GROUP SUSP_RACE SUSP_SEX VIC_AGE_GROUP VIC_RACE VIC_SEX  \n",
       "0        UNKNOWN   UNKNOWN  UNKNOWN         25-44    BLACK       F  \n",
       "1        UNKNOWN   UNKNOWN  UNKNOWN         45-64  UNKNOWN       M  \n",
       "2        UNKNOWN   UNKNOWN  UNKNOWN       UNKNOWN  UNKNOWN       D  \n",
       "3        UNKNOWN     BLACK        M       UNKNOWN  UNKNOWN       D  \n",
       "4        UNKNOWN   UNKNOWN        U       UNKNOWN  UNKNOWN       D  "
      ]
     },
     "execution_count": 51,
     "metadata": {},
     "output_type": "execute_result"
    }
   ],
   "source": [
    "nypd_copy['crime_datetime'] = pd.to_datetime(nypd_copy['crime_datetime'], format='%H:%M:%S') \n",
    "nypd_copy.head()"
   ]
  },
  {
   "cell_type": "code",
   "execution_count": null,
   "metadata": {},
   "outputs": [
    {
     "data": {
      "text/html": [
       "<div>\n",
       "<style scoped>\n",
       "    .dataframe tbody tr th:only-of-type {\n",
       "        vertical-align: middle;\n",
       "    }\n",
       "\n",
       "    .dataframe tbody tr th {\n",
       "        vertical-align: top;\n",
       "    }\n",
       "\n",
       "    .dataframe thead th {\n",
       "        text-align: right;\n",
       "    }\n",
       "</style>\n",
       "<table border=\"1\" class=\"dataframe\">\n",
       "  <thead>\n",
       "    <tr style=\"text-align: right;\">\n",
       "      <th></th>\n",
       "      <th>level_of_offense</th>\n",
       "      <th>id</th>\n",
       "    </tr>\n",
       "  </thead>\n",
       "  <tbody>\n",
       "    <tr>\n",
       "      <th>1</th>\n",
       "      <td>MISDEMEANOR</td>\n",
       "      <td>4635298</td>\n",
       "    </tr>\n",
       "    <tr>\n",
       "      <th>0</th>\n",
       "      <td>FELONY</td>\n",
       "      <td>2602491</td>\n",
       "    </tr>\n",
       "    <tr>\n",
       "      <th>2</th>\n",
       "      <td>VIOLATION</td>\n",
       "      <td>1119478</td>\n",
       "    </tr>\n",
       "  </tbody>\n",
       "</table>\n",
       "</div>"
      ],
      "text/plain": [
       "  level_of_offense       id\n",
       "1      MISDEMEANOR  4635298\n",
       "0           FELONY  2602491\n",
       "2        VIOLATION  1119478"
      ]
     },
     "execution_count": 74,
     "metadata": {},
     "output_type": "execute_result"
    }
   ],
   "source": [
    "level_top = nypd_right.groupby('level_of_offense',as_index=False)\\\n",
    ".agg({'id':'count'})\\\n",
    ".sort_values('id', ascending=False)\n",
    "level_top"
   ]
  },
  {
   "cell_type": "code",
   "execution_count": null,
   "metadata": {},
   "outputs": [
    {
     "data": {
      "text/html": [
       "<div>\n",
       "<style scoped>\n",
       "    .dataframe tbody tr th:only-of-type {\n",
       "        vertical-align: middle;\n",
       "    }\n",
       "\n",
       "    .dataframe tbody tr th {\n",
       "        vertical-align: top;\n",
       "    }\n",
       "\n",
       "    .dataframe thead th {\n",
       "        text-align: right;\n",
       "    }\n",
       "</style>\n",
       "<table border=\"1\" class=\"dataframe\">\n",
       "  <thead>\n",
       "    <tr style=\"text-align: right;\">\n",
       "      <th></th>\n",
       "      <th>OFNS_DESC</th>\n",
       "      <th>id</th>\n",
       "    </tr>\n",
       "  </thead>\n",
       "  <tbody>\n",
       "    <tr>\n",
       "      <th>60</th>\n",
       "      <td>PETIT LARCENY</td>\n",
       "      <td>1446723</td>\n",
       "    </tr>\n",
       "    <tr>\n",
       "      <th>30</th>\n",
       "      <td>HARRASSMENT 2</td>\n",
       "      <td>1103125</td>\n",
       "    </tr>\n",
       "    <tr>\n",
       "      <th>8</th>\n",
       "      <td>ASSAULT 3 &amp; RELATED OFFENSES</td>\n",
       "      <td>877602</td>\n",
       "    </tr>\n",
       "    <tr>\n",
       "      <th>13</th>\n",
       "      <td>CRIMINAL MISCHIEF &amp; RELATED OF</td>\n",
       "      <td>834406</td>\n",
       "    </tr>\n",
       "    <tr>\n",
       "      <th>28</th>\n",
       "      <td>GRAND LARCENY</td>\n",
       "      <td>731421</td>\n",
       "    </tr>\n",
       "    <tr>\n",
       "      <th>15</th>\n",
       "      <td>DANGEROUS DRUGS</td>\n",
       "      <td>443473</td>\n",
       "    </tr>\n",
       "    <tr>\n",
       "      <th>48</th>\n",
       "      <td>OFF. AGNST PUB ORD SENSBLTY &amp;</td>\n",
       "      <td>419214</td>\n",
       "    </tr>\n",
       "    <tr>\n",
       "      <th>21</th>\n",
       "      <td>FELONY ASSAULT</td>\n",
       "      <td>334975</td>\n",
       "    </tr>\n",
       "    <tr>\n",
       "      <th>65</th>\n",
       "      <td>ROBBERY</td>\n",
       "      <td>297692</td>\n",
       "    </tr>\n",
       "    <tr>\n",
       "      <th>10</th>\n",
       "      <td>BURGLARY</td>\n",
       "      <td>282842</td>\n",
       "    </tr>\n",
       "  </tbody>\n",
       "</table>\n",
       "</div>"
      ],
      "text/plain": [
       "                         OFNS_DESC       id\n",
       "60                   PETIT LARCENY  1446723\n",
       "30                   HARRASSMENT 2  1103125\n",
       "8     ASSAULT 3 & RELATED OFFENSES   877602\n",
       "13  CRIMINAL MISCHIEF & RELATED OF   834406\n",
       "28                   GRAND LARCENY   731421\n",
       "15                 DANGEROUS DRUGS   443473\n",
       "48   OFF. AGNST PUB ORD SENSBLTY &   419214\n",
       "21                  FELONY ASSAULT   334975\n",
       "65                         ROBBERY   297692\n",
       "10                        BURGLARY   282842"
      ]
     },
     "execution_count": 75,
     "metadata": {},
     "output_type": "execute_result"
    }
   ],
   "source": [
    "offense_type_top = nypd_right.groupby('OFNS_DESC',as_index=False)\\\n",
    ".agg({'id':'count'})\\\n",
    ".sort_values('id', ascending=False).head(10)\n",
    "offense_type_top"
   ]
  },
  {
   "cell_type": "code",
   "execution_count": null,
   "metadata": {},
   "outputs": [
    {
     "data": {
      "text/html": [
       "<div>\n",
       "<style scoped>\n",
       "    .dataframe tbody tr th:only-of-type {\n",
       "        vertical-align: middle;\n",
       "    }\n",
       "\n",
       "    .dataframe tbody tr th {\n",
       "        vertical-align: top;\n",
       "    }\n",
       "\n",
       "    .dataframe thead th {\n",
       "        text-align: right;\n",
       "    }\n",
       "</style>\n",
       "<table border=\"1\" class=\"dataframe\">\n",
       "  <thead>\n",
       "    <tr style=\"text-align: right;\">\n",
       "      <th></th>\n",
       "      <th>borough_name</th>\n",
       "      <th>id</th>\n",
       "    </tr>\n",
       "  </thead>\n",
       "  <tbody>\n",
       "    <tr>\n",
       "      <th>2</th>\n",
       "      <td>BROOKLYN</td>\n",
       "      <td>2460616</td>\n",
       "    </tr>\n",
       "    <tr>\n",
       "      <th>3</th>\n",
       "      <td>MANHATTAN</td>\n",
       "      <td>2015653</td>\n",
       "    </tr>\n",
       "    <tr>\n",
       "      <th>1</th>\n",
       "      <td>BRONX</td>\n",
       "      <td>1806245</td>\n",
       "    </tr>\n",
       "    <tr>\n",
       "      <th>4</th>\n",
       "      <td>QUEENS</td>\n",
       "      <td>1676748</td>\n",
       "    </tr>\n",
       "    <tr>\n",
       "      <th>5</th>\n",
       "      <td>STATEN ISLAND</td>\n",
       "      <td>384550</td>\n",
       "    </tr>\n",
       "  </tbody>\n",
       "</table>\n",
       "</div>"
      ],
      "text/plain": [
       "    borough_name       id\n",
       "2       BROOKLYN  2460616\n",
       "3      MANHATTAN  2015653\n",
       "1          BRONX  1806245\n",
       "4         QUEENS  1676748\n",
       "5  STATEN ISLAND   384550"
      ]
     },
     "execution_count": 76,
     "metadata": {},
     "output_type": "execute_result"
    }
   ],
   "source": [
    "neighbourhood_top = nypd_right.groupby('borough_name',as_index=False)\\\n",
    ".agg({'id':'count'})\\\n",
    ".sort_values('id', ascending=False).head()\n",
    "neighbourhood_top"
   ]
  },
  {
   "cell_type": "code",
   "execution_count": null,
   "metadata": {},
   "outputs": [
    {
     "data": {
      "text/html": [
       "<div>\n",
       "<style scoped>\n",
       "    .dataframe tbody tr th:only-of-type {\n",
       "        vertical-align: middle;\n",
       "    }\n",
       "\n",
       "    .dataframe tbody tr th {\n",
       "        vertical-align: top;\n",
       "    }\n",
       "\n",
       "    .dataframe thead th {\n",
       "        text-align: right;\n",
       "    }\n",
       "</style>\n",
       "<table border=\"1\" class=\"dataframe\">\n",
       "  <thead>\n",
       "    <tr style=\"text-align: right;\">\n",
       "      <th></th>\n",
       "      <th>VIC_RACE</th>\n",
       "      <th>id</th>\n",
       "    </tr>\n",
       "  </thead>\n",
       "  <tbody>\n",
       "    <tr>\n",
       "      <th>3</th>\n",
       "      <td>BLACK</td>\n",
       "      <td>2019507</td>\n",
       "    </tr>\n",
       "    <tr>\n",
       "      <th>7</th>\n",
       "      <td>WHITE</td>\n",
       "      <td>1413797</td>\n",
       "    </tr>\n",
       "    <tr>\n",
       "      <th>8</th>\n",
       "      <td>WHITE HISPANIC</td>\n",
       "      <td>1366282</td>\n",
       "    </tr>\n",
       "    <tr>\n",
       "      <th>2</th>\n",
       "      <td>ASIAN / PACIFIC ISLANDER</td>\n",
       "      <td>507507</td>\n",
       "    </tr>\n",
       "    <tr>\n",
       "      <th>4</th>\n",
       "      <td>BLACK HISPANIC</td>\n",
       "      <td>292194</td>\n",
       "    </tr>\n",
       "    <tr>\n",
       "      <th>1</th>\n",
       "      <td>AMERICAN INDIAN/ALASKAN NATIVE</td>\n",
       "      <td>37048</td>\n",
       "    </tr>\n",
       "  </tbody>\n",
       "</table>\n",
       "</div>"
      ],
      "text/plain": [
       "                         VIC_RACE       id\n",
       "3                           BLACK  2019507\n",
       "7                           WHITE  1413797\n",
       "8                  WHITE HISPANIC  1366282\n",
       "2        ASIAN / PACIFIC ISLANDER   507507\n",
       "4                  BLACK HISPANIC   292194\n",
       "1  AMERICAN INDIAN/ALASKAN NATIVE    37048"
      ]
     },
     "execution_count": 77,
     "metadata": {},
     "output_type": "execute_result"
    }
   ],
   "source": [
    "victim_top = nypd_right.groupby('VIC_RACE',as_index=False)\\\n",
    ".agg({'id':'count'})\\\n",
    ".query('VIC_RACE != \"UNKNOWN\"')\\\n",
    ".sort_values('id', ascending=False).head(6)\n",
    "victim_top"
   ]
  },
  {
   "cell_type": "code",
   "execution_count": null,
   "metadata": {},
   "outputs": [
    {
     "data": {
      "text/html": [
       "<div>\n",
       "<style scoped>\n",
       "    .dataframe tbody tr th:only-of-type {\n",
       "        vertical-align: middle;\n",
       "    }\n",
       "\n",
       "    .dataframe tbody tr th {\n",
       "        vertical-align: top;\n",
       "    }\n",
       "\n",
       "    .dataframe thead th {\n",
       "        text-align: right;\n",
       "    }\n",
       "</style>\n",
       "<table border=\"1\" class=\"dataframe\">\n",
       "  <thead>\n",
       "    <tr style=\"text-align: right;\">\n",
       "      <th></th>\n",
       "      <th>SUSP_RACE</th>\n",
       "      <th>id</th>\n",
       "    </tr>\n",
       "  </thead>\n",
       "  <tbody>\n",
       "    <tr>\n",
       "      <th>3</th>\n",
       "      <td>BLACK</td>\n",
       "      <td>1758316</td>\n",
       "    </tr>\n",
       "    <tr>\n",
       "      <th>8</th>\n",
       "      <td>WHITE HISPANIC</td>\n",
       "      <td>795144</td>\n",
       "    </tr>\n",
       "    <tr>\n",
       "      <th>7</th>\n",
       "      <td>WHITE</td>\n",
       "      <td>501763</td>\n",
       "    </tr>\n",
       "    <tr>\n",
       "      <th>4</th>\n",
       "      <td>BLACK HISPANIC</td>\n",
       "      <td>243787</td>\n",
       "    </tr>\n",
       "    <tr>\n",
       "      <th>2</th>\n",
       "      <td>ASIAN / PACIFIC ISLANDER</td>\n",
       "      <td>154972</td>\n",
       "    </tr>\n",
       "  </tbody>\n",
       "</table>\n",
       "</div>"
      ],
      "text/plain": [
       "                  SUSP_RACE       id\n",
       "3                     BLACK  1758316\n",
       "8            WHITE HISPANIC   795144\n",
       "7                     WHITE   501763\n",
       "4            BLACK HISPANIC   243787\n",
       "2  ASIAN / PACIFIC ISLANDER   154972"
      ]
     },
     "execution_count": 78,
     "metadata": {},
     "output_type": "execute_result"
    }
   ],
   "source": [
    "susp_top = nypd_right.groupby('SUSP_RACE',as_index=False)\\\n",
    ".agg({'id':'count'})\\\n",
    ".query('SUSP_RACE != \"UNKNOWN\"')\\\n",
    ".sort_values('id', ascending=False).head()\n",
    "susp_top"
   ]
  },
  {
   "cell_type": "code",
   "execution_count": null,
   "metadata": {},
   "outputs": [
    {
     "data": {
      "text/html": [
       "<div>\n",
       "<style scoped>\n",
       "    .dataframe tbody tr th:only-of-type {\n",
       "        vertical-align: middle;\n",
       "    }\n",
       "\n",
       "    .dataframe tbody tr th {\n",
       "        vertical-align: top;\n",
       "    }\n",
       "\n",
       "    .dataframe thead th {\n",
       "        text-align: right;\n",
       "    }\n",
       "</style>\n",
       "<table border=\"1\" class=\"dataframe\">\n",
       "  <thead>\n",
       "    <tr style=\"text-align: right;\">\n",
       "      <th></th>\n",
       "      <th>succeeded_or_attempted</th>\n",
       "      <th>id</th>\n",
       "    </tr>\n",
       "  </thead>\n",
       "  <tbody>\n",
       "    <tr>\n",
       "      <th>1</th>\n",
       "      <td>COMPLETED</td>\n",
       "      <td>8217032</td>\n",
       "    </tr>\n",
       "    <tr>\n",
       "      <th>0</th>\n",
       "      <td>ATTEMPTED</td>\n",
       "      <td>140067</td>\n",
       "    </tr>\n",
       "  </tbody>\n",
       "</table>\n",
       "</div>"
      ],
      "text/plain": [
       "  succeeded_or_attempted       id\n",
       "1              COMPLETED  8217032\n",
       "0              ATTEMPTED   140067"
      ]
     },
     "execution_count": 79,
     "metadata": {},
     "output_type": "execute_result"
    }
   ],
   "source": [
    "top_tries = nypd_right.groupby('succeeded_or_attempted',as_index=False)\\\n",
    ".agg({'id':'count'})\\\n",
    ".sort_values('id', ascending=False)\n",
    "top_tries"
   ]
  },
  {
   "cell_type": "code",
   "execution_count": null,
   "metadata": {},
   "outputs": [
    {
     "data": {
      "text/plain": [
       "Text(0.5, 1.0, 'Reported Crimes')"
      ]
     },
     "execution_count": 98,
     "metadata": {},
     "output_type": "execute_result"
    },
    {
     "data": {
      "image/png": "[encoded data removed]",
      "text/plain": [
       "<Figure size 1000x600 with 1 Axes>"
      ]
     },
     "metadata": {},
     "output_type": "display_data"
    }
   ],
   "source": [
    "fig,ax = plt.subplots(1,figsize=(10,6))\n",
    "fig.autofmt_xdate()\n",
    "plt.bar(top_tries['succeeded_or_attempted'], top_tries['id'])\n",
    "plt.title('Reported Crimes')"
   ]
  },
  {
   "cell_type": "code",
   "execution_count": null,
   "metadata": {},
   "outputs": [
    {
     "data": {
      "text/plain": [
       "Text(0.5, 1.0, 'Suspected Race')"
      ]
     },
     "execution_count": 97,
     "metadata": {},
     "output_type": "execute_result"
    },
    {
     "data": {
      "image/png": "[encoded data removed]",
      "text/plain": [
       "<Figure size 1000x600 with 1 Axes>"
      ]
     },
     "metadata": {},
     "output_type": "display_data"
    }
   ],
   "source": [
    "fig,ax = plt.subplots(1,figsize=(10,6))\n",
    "fig.autofmt_xdate()\n",
    "plt.bar(susp_top['SUSP_RACE'], susp_top['id'])\n",
    "plt.title('Suspected Race')"
   ]
  },
  {
   "cell_type": "code",
   "execution_count": null,
   "metadata": {},
   "outputs": [
    {
     "data": {
      "text/plain": [
       "Text(0.5, 1.0, 'Victim Race')"
      ]
     },
     "execution_count": 99,
     "metadata": {},
     "output_type": "execute_result"
    },
    {
     "data": {
      "image/png": "[encoded data removed]",
      "text/plain": [
       "<Figure size 1000x600 with 1 Axes>"
      ]
     },
     "metadata": {},
     "output_type": "display_data"
    }
   ],
   "source": [
    "fig,ax = plt.subplots(1,figsize=(10,6))\n",
    "fig.autofmt_xdate()\n",
    "plt.bar(victim_top['VIC_RACE'], victim_top['id'])\n",
    "plt.title('Victim Race')"
   ]
  }
 ],
 "metadata": {
  "kernelspec": {
   "display_name": "base",
   "language": "python",
   "name": "python3"
  },
  "language_info": {
   "codemirror_mode": {
    "name": "ipython",
    "version": 3
   },
   "file_extension": ".py",
   "mimetype": "text/x-python",
   "name": "python",
   "nbconvert_exporter": "python",
   "pygments_lexer": "ipython3",
   "version": "3.9.15"
  },
  "orig_nbformat": 4
 },
 "nbformat": 4,
 "nbformat_minor": 2
}
